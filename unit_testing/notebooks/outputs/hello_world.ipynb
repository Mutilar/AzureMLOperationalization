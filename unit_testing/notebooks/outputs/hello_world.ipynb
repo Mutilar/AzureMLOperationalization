{
 "cells": [
  {
   "cell_type": "markdown",
   "metadata": {},
   "source": [
    "This is a sample notebook"
   ]
  },
  {
   "cell_type": "code",
   "execution_count": null,
   "metadata": {
    "tags": [
     "parameters"
    ]
   },
   "outputs": [],
   "source": [
    "from azure.servicebus import QueueClient, Message\n",
    "_connection_string = \"!CONNECTION_STRING\"\n",
    "_queue_name = \"!NAME\"\n",
    "_params = '!PARAMS'\n",
    "HAS_ERRORED = False\n",
    "try:\n",
    "    arg1=\"Hello\"\n",
    "    arg2=\"World\"\n",
    "except Exception as e:\n",
    "    if HAS_ERRORED is False:\n",
    "        _queue_client = QueueClient.from_connection_string(_connection_string, _queue_name)\n",
    "        _msg = Message(_params.replace(\"default_error_message\", str(e).replace(\"'\",\"\")))\n",
    "        _queue_client.send(_msg)\n",
    "        HAS_ERRORED = True\n",
    "        raise Exception(e)\n"
   ]
  },
  {
   "cell_type": "code",
   "execution_count": null,
   "metadata": {},
   "outputs": [],
   "source": [
    "try:\n",
    "    print(arg1, \" \", arg2)\n",
    "except Exception as e:\n",
    "    if HAS_ERRORED is False:\n",
    "        _queue_client = QueueClient.from_connection_string(_connection_string, _queue_name)\n",
    "        _msg = Message(_params.replace(\"default_error_message\", str(e).replace(\"'\",\"\")))\n",
    "        _queue_client.send(_msg)\n",
    "        HAS_ERRORED = True\n",
    "        raise Exception(e)\n",
    "if HAS_ERRORED is False:\n",
    "    _queue_client = QueueClient.from_connection_string(_connection_string, _queue_name)\n",
    "    _msg = Message(_params.replace(\"default_error_message\",\"Ran successfully\"))\n",
    "    _queue_client.send(_msg)\n"
   ]
  }
 ],
 "metadata": {
  "celltoolbar": "Tags",
  "kernelspec": {
   "display_name": "Python [default]",
   "language": "python",
   "name": "python3"
  },
  "language_info": {
   "codemirror_mode": {
    "name": "ipython",
    "version": 3
   },
   "file_extension": ".py",
   "mimetype": "text/x-python",
   "name": "python",
   "nbconvert_exporter": "python",
   "pygments_lexer": "ipython3",
   "version": "3.5.2"
  }
 },
 "nbformat": 4,
 "nbformat_minor": 2
}
